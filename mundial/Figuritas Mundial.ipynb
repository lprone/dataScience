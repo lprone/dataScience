{
 "cells": [
  {
   "cell_type": "code",
   "execution_count": 12,
   "metadata": {},
   "outputs": [],
   "source": [
    "import numpy as np\n",
    "import matplotlib.pyplot as plt\n",
    "import time\n",
    "\n",
    "import random"
   ]
  },
  {
   "cell_type": "markdown",
   "metadata": {},
   "source": [
    "http://blogs.lanacion.com.ar/data/visualizaciones/simulando-cuantos-sobres-hacen-falta-para-llenar-el-album-del-mundial/"
   ]
  },
  {
   "cell_type": "markdown",
   "metadata": {},
   "source": [
    "## Cuántos sobres se necesitan para llenar el album usando Python?"
   ]
  },
  {
   "cell_type": "markdown",
   "metadata": {},
   "source": [
    "En nuestro caso, la simulación tendrá como objetivo medir cuántos sobres (de 5 figuritas cada uno) se necesitan para llenar un álbum de 669 figuritas"
   ]
  },
  {
   "cell_type": "code",
   "execution_count": 54,
   "metadata": {},
   "outputs": [
    {
     "name": "stdout",
     "output_type": "stream",
     "text": [
      "5\n"
     ]
    }
   ],
   "source": [
    "dado = random.randint(1, 6)\n",
    "print(dado)"
   ]
  },
  {
   "cell_type": "code",
   "execution_count": 53,
   "metadata": {
    "scrolled": false
   },
   "outputs": [
    {
     "name": "stdout",
     "output_type": "stream",
     "text": [
      "0 1 2 3 4 5 6 7 8 9 10 11 12 13 14 15 16 17 18 19 20 21 22 23 24 25 26 27 28 29 30 31 32 33 34 35 36 37 38 39 40 41 42 43 44 45 46 47 48 49 50 51 52 53 54 55 56 57 58 59 60 61 62 63 64 65 66 67 68 69 70 71 72 73 74 75 76 77 78 79 80 81 82 83 84 85 86 87 88 89 90 91 92 93 94 95 96 97 98 99 100 101 102 103 104 105 106 107 108 109 110 111 112 113 114 115 116 117 118 119 120 121 122 123 124 125 126 127 128 129 130 131 132 133 134 135 136 137 138 139 140 141 142 143 144 145 146 147 148 149 150 151 152 153 154 155 156 157 158 159 160 161 162 163 164 165 166 167 168 169 170 171 172 173 174 175 176 177 178 179 180 181 182 183 184 185 186 187 188 189 190 191 192 193 194 195 196 197 198 199 200 201 202 203 204 205 206 207 208 209 210 211 212 213 214 215 216 217 218 219 220 221 222 223 224 225 226 227 228 229 230 231 232 233 234 235 236 237 238 239 240 241 242 243 244 245 246 247 248 249 250 251 252 253 254 255 256 257 258 259 260 261 262 263 264 265 266 267 268 269 270 271 272 273 274 275 276 277 278 279 280 281 282 283 284 285 286 287 288 289 290 291 292 293 294 295 296 297 298 299 300 301 302 303 304 305 306 307 308 309 310 311 312 313 314 315 316 317 318 319 320 321 322 323 324 325 326 327 328 329 330 331 332 333 334 335 336 337 338 339 340 341 342 343 344 345 346 347 348 349 350 351 352 353 354 355 356 357 358 359 360 361 362 363 364 365 366 367 368 369 370 371 372 373 374 375 376 377 378 379 380 381 382 383 384 385 386 387 388 389 390 391 392 393 394 395 396 397 398 399 400 401 402 403 404 405 406 407 408 409 410 411 412 413 414 415 416 417 418 419 420 421 422 423 424 425 426 427 428 429 430 431 432 433 434 435 436 437 438 439 440 441 442 443 444 445 446 447 448 449 450 451 452 453 454 455 456 457 458 459 460 461 462 463 464 465 466 467 468 469 470 471 472 473 474 475 476 477 478 479 480 481 482 483 484 485 486 487 488 489 490 491 492 493 494 495 496 497 498 499 500 501 502 503 504 505 506 507 508 509 510 511 512 513 514 515 516 517 518 519 520 521 522 523 524 525 526 527 528 529 530 531 532 533 534 535 536 537 538 539 540 541 542 543 544 545 546 547 548 549 550 551 552 553 554 555 556 557 558 559 560 561 562 563 564 565 566 567 568 569 570 571 572 573 574 575 576 577 578 579 580 581 582 583 584 585 586 587 588 589 590 591 592 593 594 595 596 597 598 599 600 601 602 603 604 605 606 607 608 609 610 611 612 613 614 615 616 617 618 619 620 621 622 623 624 625 626 627 628 629 630 631 632 633 634 635 636 637 638 639 640 641 642 643 644 645 646 647 648 649 650 651 652 653 654 655 656 657 658 659 660 661 662 663 664 665 666 667 668\n"
     ]
    }
   ],
   "source": [
    "print(*range(669))"
   ]
  },
  {
   "cell_type": "code",
   "execution_count": 45,
   "metadata": {},
   "outputs": [
    {
     "name": "stdout",
     "output_type": "stream",
     "text": [
      "[220, 563, 239, 465, 202]\n"
     ]
    }
   ],
   "source": [
    "#para modelar el sobre utilizaremos la funcion sample. \n",
    "sobre = random.sample(range(669), 5)\n",
    "print(sobre)"
   ]
  },
  {
   "cell_type": "code",
   "execution_count": 13,
   "metadata": {},
   "outputs": [],
   "source": [
    "#las constantes de la simulacion\n",
    "FIGURITAS_POR_PAQUETE = 5\n",
    "FIGURITAS_POR_ALBUM = 669\n",
    "CANTIDAD_DE_CORRIDAS = 1000"
   ]
  },
  {
   "cell_type": "code",
   "execution_count": 14,
   "metadata": {},
   "outputs": [],
   "source": [
    "simulacion = np.empty(CANTIDAD_DE_CORRIDAS)"
   ]
  },
  {
   "cell_type": "code",
   "execution_count": null,
   "metadata": {},
   "outputs": [],
   "source": [
    "time.strftime(\"%H:%M:%S\")"
   ]
  },
  {
   "cell_type": "code",
   "execution_count": 17,
   "metadata": {},
   "outputs": [],
   "source": [
    "#voy a realizar tantas corridas como dice la constante CANTIDAD_DE_CORRIDAS\n",
    "for i in range(CANTIDAD_DE_CORRIDAS):\n",
    "\n",
    "    #modelo el album vacio como un vector lleno de ceros\n",
    "    album = np.zeros(FIGURITAS_POR_ALBUM, dtype=int)\n",
    "\n",
    "    #en esta variable contabilizare cuantos sobres se necesitan \n",
    "    cantidad_de_sobres = 0\n",
    "\n",
    "    #voy abriendo sobres nuevos hasta llenar el album\n",
    "    #si el vector contiene algun 0 en alguna posicion significa \n",
    "    #que aun no esta completo esa condicion la podemos expresar de muchas \n",
    "    #formas la que elegi es min(album) == 0, \n",
    "    #tambien podria ser len( album [ album == 0 ] ) > 0 \n",
    "    while min(album) == 0:\n",
    "\n",
    "        #un nuevo sobre formado por figuritas tomadas de manera aleatoria\n",
    "        sobre = random.sample(range(FIGURITAS_POR_ALBUM), FIGURITAS_POR_PAQUETE)\n",
    "\n",
    "        #voy llenando el album\n",
    "        #sumo 1 en cada posicion correspondiente a cada una de las figuritas \n",
    "    #del sobre\n",
    "    #\n",
    "    #Nota: para quienes conocen otros lenguajes de programacion, esta \n",
    "    #operacion puede llegar a causar confusion. La libreria NumPy permite\n",
    "    #realizar operaciones sobre multiples indices a la vez. \n",
    "    #Aprovechenla, es muy util.\n",
    "        album[sobre] += 1\n",
    "\n",
    "        #incremento la cantidad de sobres en 1\n",
    "        cantidad_de_sobres += 1\n",
    "\n",
    "    #para llenar este album he necesitado tantos sobres como \n",
    "    #lo dice cantidad_de_sobres\n",
    "    simulacion[i] = cantidad_de_sobres"
   ]
  },
  {
   "cell_type": "code",
   "execution_count": null,
   "metadata": {},
   "outputs": [],
   "source": [
    "time.strftime(\"%H:%M:%S\")"
   ]
  },
  {
   "cell_type": "code",
   "execution_count": 18,
   "metadata": {},
   "outputs": [
    {
     "data": {
      "image/png": "[encoded data removed]",
      "text/plain": [
       "<Figure size 432x288 with 1 Axes>"
      ]
     },
     "metadata": {},
     "output_type": "display_data"
    }
   ],
   "source": [
    "#cuantos sobres necesitamos en promedio para llenar el album\n",
    "sobres_promedio = simulacion.mean()\n",
    "\n",
    "#visualizamos la simulacion con un histograma de las corridas\n",
    "plt.hist(simulacion, bins=50)\n",
    "plt.axvline(sobres_promedio, color='r')\n",
    "plt.legend([\"%.2f sobres\" % sobres_promedio])\n",
    "plt.title(\"Cantidad de sobres en promedio para llenar 1 album\")\n",
    "plt.show()"
   ]
  },
  {
   "cell_type": "code",
   "execution_count": 19,
   "metadata": {},
   "outputs": [
    {
     "name": "stdout",
     "output_type": "stream",
     "text": [
      "Llenar el album costará... 14200 pesos. Y qué hago con las 4064 repetidas!\n"
     ]
    }
   ],
   "source": [
    "print(\"Llenar el album costará... %2.f pesos. Y qué hago con las %d repetidas!\" % (sobres_promedio * 15, sobres_promedio * FIGURITAS_POR_PAQUETE - FIGURITAS_POR_ALBUM))"
   ]
  },
  {
   "cell_type": "code",
   "execution_count": 20,
   "metadata": {},
   "outputs": [],
   "source": [
    "CANTIDAD_DE_ALBUMES = 20\n"
   ]
  },
  {
   "cell_type": "code",
   "execution_count": 22,
   "metadata": {},
   "outputs": [],
   "source": [
    "#inicializo el vector simulacion_grupo con 2 dimensiones \n",
    "simulacion_grupo = np.zeros([CANTIDAD_DE_ALBUMES+1, \n",
    "                             CANTIDAD_DE_CORRIDAS], dtype=int)"
   ]
  },
  {
   "cell_type": "code",
   "execution_count": null,
   "metadata": {},
   "outputs": [],
   "source": [
    "time.strftime(\"%H:%M:%S\")"
   ]
  },
  {
   "cell_type": "code",
   "execution_count": 23,
   "metadata": {},
   "outputs": [],
   "source": [
    "#voy a realizar muchas corridas, tantas como dice la constante CANTIDAD_DE_CORRIDAS\n",
    "for i in range(CANTIDAD_DE_CORRIDAS):\n",
    "\n",
    "  #modelo el album vacio como un vector lleno de ceros\n",
    "  album = np.zeros(FIGURITAS_POR_ALBUM, dtype=int)\n",
    "\n",
    "  #en esta variable contabilizare cuantos sobres se necesitan para llenar 1..n albumes\n",
    "  cantidad_de_sobres = 0\n",
    "\n",
    "  #aqui voy a contabilizar cuando albumes estan llenos\n",
    "  albumes_llenos = 0\n",
    "\n",
    "  #a diferencia de la simulacion anterior, la condicion de corte sera cuando se \n",
    "  #llenen los n albumes. Eso lo podemos expresar asi:\n",
    "  #albumes_llenos < CANTIDAD_DE_ALBUMES\n",
    "  while albumes_llenos < CANTIDAD_DE_ALBUMES:\n",
    "\n",
    "    #un nuevo sobre formado por figuritas tomadas de manera aleatoria\n",
    "    sobre = random.sample(range(FIGURITAS_POR_ALBUM), FIGURITAS_POR_PAQUETE)\n",
    "\n",
    "    #voy llenando los albumes\n",
    "    album[sobre] += 1\n",
    "\n",
    "    #incremento la cantidad de sobres en 1\n",
    "    cantidad_de_sobres += 1    \n",
    "\n",
    "    #si el min(album) se incremento, significa que se ha llenado un nuevo album. \n",
    "    if albumes_llenos < min(album):      \n",
    "      #hemos llenado un album nuevo\n",
    "      albumes_llenos = min(album)\n",
    "\n",
    "      #registramos la cantidad de sobres\n",
    "      simulacion_grupo[albumes_llenos, i] = cantidad_de_sobres"
   ]
  },
  {
   "cell_type": "code",
   "execution_count": null,
   "metadata": {},
   "outputs": [],
   "source": [
    "time.strftime(\"%H:%M:%S\")"
   ]
  },
  {
   "cell_type": "code",
   "execution_count": 24,
   "metadata": {},
   "outputs": [
    {
     "data": {
      "image/png": "[encoded data removed]",
      "text/plain": [
       "<Figure size 432x288 with 4 Axes>"
      ]
     },
     "metadata": {},
     "output_type": "display_data"
    }
   ],
   "source": [
    "#cuantos sobres necesitamos en promedio para llenar n-albumes\n",
    "#usamos una matriz de histogramas\n",
    "\n",
    "amigos = [2, 5, 10, 20]\n",
    "\n",
    "fig, axes = plt.subplots(nrows=2, ncols=2, sharey=True, sharex=True)\n",
    "\n",
    "for ax, q in zip(axes.flat, amigos):\n",
    "  simulacion = simulacion_grupo[q]/q\n",
    "  sobres_promedio = simulacion.mean()\n",
    "  ax.set_title('$albumes=%d $' % (q))\n",
    "  ax.hist(simulacion, bins=50)\n",
    "  ax.axvline(sobres_promedio, color='r')\n",
    "  ax.legend([\"%.2f sobres\" % sobres_promedio])\n",
    "\n",
    "fig.suptitle(\"Cantidad de sobres en promedio para llenar $n$ albumes\")\n",
    "plt.show()"
   ]
  },
  {
   "cell_type": "code",
   "execution_count": 26,
   "metadata": {},
   "outputs": [
    {
     "data": {
      "image/png": "[encoded data removed]",
      "text/plain": [
       "<Figure size 432x288 with 1 Axes>"
      ]
     },
     "metadata": {},
     "output_type": "display_data"
    }
   ],
   "source": [
    "#Otra forma de visualizar la cantidad promedio de sobres para llenar n-albumes\n",
    "\n",
    "plt.boxplot([simulacion_grupo[i]/i for i in range(1,CANTIDAD_DE_ALBUMES+1)])\n",
    "plt.title(\"Cantidad de sobres para llenar $n$ albumes\")\n",
    "plt.show()"
   ]
  },
  {
   "cell_type": "code",
   "execution_count": 27,
   "metadata": {},
   "outputs": [
    {
     "name": "stdout",
     "output_type": "stream",
     "text": [
      "Llenar 20 albumes costara... 3705 pesos por integrante. Que bueno es tener amigos!\n"
     ]
    }
   ],
   "source": [
    "print(\"Llenar %d albumes costara... %2.f pesos por integrante. Que bueno es tener amigos!\" % (CANTIDAD_DE_ALBUMES, (simulacion_grupo[CANTIDAD_DE_ALBUMES]/CANTIDAD_DE_ALBUMES).mean() * 15))"
   ]
  },
  {
   "cell_type": "code",
   "execution_count": null,
   "metadata": {},
   "outputs": [],
   "source": []
  }
 ],
 "metadata": {
  "kernelspec": {
   "display_name": "Python 3",
   "language": "python",
   "name": "python3"
  },
  "language_info": {
   "codemirror_mode": {
    "name": "ipython",
    "version": 3
   },
   "file_extension": ".py",
   "mimetype": "text/x-python",
   "name": "python",
   "nbconvert_exporter": "python",
   "pygments_lexer": "ipython3",
   "version": "3.6.5"
  }
 },
 "nbformat": 4,
 "nbformat_minor": 2
}
